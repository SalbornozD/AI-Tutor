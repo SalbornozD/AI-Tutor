{
  "nbformat": 4,
  "nbformat_minor": 0,
  "metadata": {
    "colab": {
      "provenance": []
    },
    "kernelspec": {
      "name": "python3",
      "display_name": "Python 3"
    },
    "language_info": {
      "name": "python"
    }
  },
  "cells": [
    {
      "cell_type": "markdown",
      "source": [
        "# AI TUTOR\n",
        "\n",
        "Ai tutor es un sistema basado en inteligencia artificial diseñado para personalizar el aprendizaje según el estilo cognitivo de cada estudiante. Este sistema utiliza modelos de IA para generar cuestionarios, analizar respuestas y proporcionar explicaciones adaptadas, además de incluir recursos visuales generados automáticamente para mejorar la comprensión."
      ],
      "metadata": {
        "id": "iHeM9MxXygfY"
      }
    },
    {
      "cell_type": "markdown",
      "source": [
        "## Objetivo del proyecto:\n",
        "\n",
        "El propósito de este sistema es optimizar la experiencia educativa al adaptar el contenido a las necesidades individuales de los estudiantes. Para ello, AI-Tutor sigue los siguientes pasos:\n",
        "\n",
        "1. Se genera un cuestionario basado en IA para determinar si el estudiante es visual, auditivo o kinestésico.\n",
        "\n",
        "2. Dependiendo del perfil identificado, las respuestas se adaptan con ejemplos y enfoques adecuados.\n",
        "\n",
        "3. Los estudiantes pueden realizar preguntas, y el sistema responde con información detallada y ejemplos.\n",
        "\n",
        "4. Para los conceptos visuales, se pueden generar ilustraciones utilizando la API de OpenAI."
      ],
      "metadata": {
        "id": "_W3fxWfsuP0O"
      }
    },
    {
      "cell_type": "markdown",
      "source": [
        "## Indice del documento:\n",
        "**Instalación:** Instrucciones sobre la configuración del entorno y el uso de la API de OpenAI.\n",
        "\n",
        "**Funciones:** Explicación y código de las funciones principales del sistema.\n",
        "\n",
        "**Función Main:** Implementación del flujo principal del programa.\n"
      ],
      "metadata": {
        "id": "MObikVtxzNUo"
      }
    },
    {
      "cell_type": "markdown",
      "source": [
        "## Intalación y configuración.\n",
        "Para ejecutar AI-Tutor, es necesario instalar y configurar la biblioteca de OpenAI, la cual permite interactuar con los modelos de inteligencia artificial. Para ello, asegúrate de que tienes Google Colab configurado correctamente y ejecuta el siguiente comando:"
      ],
      "metadata": {
        "id": "iy7tortSzoWf"
      }
    },
    {
      "cell_type": "code",
      "source": [
        "pip install openai"
      ],
      "metadata": {
        "id": "LB1OJdZs0vg4"
      },
      "execution_count": null,
      "outputs": []
    },
    {
      "cell_type": "markdown",
      "source": [
        "Luego, importa la librería con:"
      ],
      "metadata": {
        "id": "9P9ZT64X0v9Q"
      }
    },
    {
      "cell_type": "code",
      "source": [
        "import openai"
      ],
      "metadata": {
        "id": "9ZCEfYSduUmK"
      },
      "execution_count": null,
      "outputs": []
    },
    {
      "cell_type": "markdown",
      "source": [
        "También será necesario contar con una API Key de OpenAI, que se debe proporcionar al ejecutar el programa."
      ],
      "metadata": {
        "id": "y0gggoCqztj_"
      }
    },
    {
      "cell_type": "markdown",
      "source": [
        "## Funciones:"
      ],
      "metadata": {
        "id": "2vbnsW0C0264"
      }
    },
    {
      "cell_type": "markdown",
      "source": [
        "### Generación del cuestionario:\n",
        "\n",
        "La función obtener_preguntas(api_key) utiliza la API de OpenAI para generar un breve cuestionario con 5 preguntas diseñadas para identificar si un estudiante tiene un estilo de aprendizaje visual, auditivo o kinestésico.\n"
      ],
      "metadata": {
        "id": "K4S9vGHDuXBN"
      }
    },
    {
      "cell_type": "code",
      "source": [
        "def obtener_preguntas(api_key):\n",
        "    \"\"\"Genera un cuestionario breve para identificar el estilo de aprendizaje usando la API de OpenAI.\"\"\"\n",
        "    prompt = (\n",
        "        \"\"\"Eres un pedagogo experto en estilos de aprendizaje. Genera un cuestionario breve\n",
        "        con 5 preguntas para identificar si un estudiante es visual, auditivo o kinestésico.\n",
        "        Cada pregunta debe ofrecer tres opciones de respuesta correspondientes a cada estilo.\"\"\"\n",
        "    )\n",
        "    try:\n",
        "        openai_client = openai.OpenAI(api_key=api_key)\n",
        "        response = openai_client.chat.completions.create(\n",
        "            model=\"gpt-4o-mini\",\n",
        "            messages=[{\"role\": \"system\", \"content\": prompt}]\n",
        "        )\n",
        "        return response.choices[0].message.content.split(\"\\n\")\n",
        "    except Exception as e:\n",
        "        return [f\"Error al generar preguntas: {str(e)}\"]"
      ],
      "metadata": {
        "id": "QLwOVkURufAd"
      },
      "execution_count": null,
      "outputs": []
    },
    {
      "cell_type": "markdown",
      "source": [
        "### Análisis del Perfil de Aprendizaje.\n",
        "\n",
        "La función obtener_perfil(api_key, respuestas) toma las respuestas del cuestionario y usa la API de OpenAI para identificar el estilo de aprendizaje predominante del estudiante, explicando su elección.\n"
      ],
      "metadata": {
        "id": "RDlOFsCIujr1"
      }
    },
    {
      "cell_type": "code",
      "source": [
        "def obtener_perfil(api_key, respuestas):\n",
        "    \"\"\"Analiza las respuestas y devuelve el perfil de aprendizaje del estudiante usando la API.\"\"\"\n",
        "    prompt = (\n",
        "        f\"\"\"Eres un pedagogo. Basado en estas respuestas: {respuestas},\n",
        "        identifica el estilo de aprendizaje predominante del estudiante (visual, auditivo o kinestésico)\n",
        "        y explica brevemente el resultado.\"\"\"\n",
        "    )\n",
        "    try:\n",
        "        openai_client = openai.OpenAI(api_key=api_key)\n",
        "        response = openai_client.chat.completions.create(\n",
        "            model=\"gpt-4o-mini\",\n",
        "            messages=[{\"role\": \"system\", \"content\": prompt}]\n",
        "        )\n",
        "        return response.choices[0].message.content\n",
        "    except Exception as e:\n",
        "        return f\"Error al analizar respuestas: {str(e)}\""
      ],
      "metadata": {
        "id": "Bssg1E71uyK9"
      },
      "execution_count": null,
      "outputs": []
    },
    {
      "cell_type": "markdown",
      "source": [
        "### Interacción con el Estudiante\n",
        "La función responder_pregunta(api_key, perfil, pregunta) permite que el estudiante haga preguntas, y la IA responde con información adaptada a su estilo de aprendizaje, incluyendo ejemplos cuando sea posible.\n"
      ],
      "metadata": {
        "id": "KtMLJYVJ10Fh"
      }
    },
    {
      "cell_type": "code",
      "source": [
        "def responder_pregunta(api_key, perfil, pregunta):\n",
        "    \"\"\"Genera una respuesta adaptada al perfil de aprendizaje del estudiante.\"\"\"\n",
        "    prompt = (\n",
        "        f\"\"\"Eres un tutor inteligente que adapta explicaciones según el estilo de aprendizaje.\n",
        "        El estudiante tiene un perfil {perfil}. Responde la siguiente pregunta de forma clara,\n",
        "        incluyendo ejemplos prácticos y, si es posible, menciona recursos visuales o auditivos\n",
        "        para reforzar la explicación.\n",
        "        Pregunta: {pregunta}\"\"\"\n",
        "    )\n",
        "    try:\n",
        "        openai_client = openai.OpenAI(api_key=api_key)\n",
        "        response = openai_client.chat.completions.create(\n",
        "            model=\"gpt-4o-mini\",\n",
        "            messages=[{\"role\": \"system\", \"content\": prompt}]\n",
        "        )\n",
        "        return response.choices[0].message.content\n",
        "    except Exception as e:\n",
        "        return f\"Error al generar respuesta: {str(e)}\""
      ],
      "metadata": {
        "id": "KytaN52r15Vx"
      },
      "execution_count": null,
      "outputs": []
    },
    {
      "cell_type": "markdown",
      "source": [
        "### Generación de imagenes.\n",
        "\n",
        "La función generar_imagen(api_key, descripcion) permite generar imágenes con la API de OpenAI (DALL·E) basadas en la consulta del estudiante."
      ],
      "metadata": {
        "id": "s2DiGf-H2Ccg"
      }
    },
    {
      "cell_type": "code",
      "source": [
        "def generar_imagen(api_key, descripcion):\n",
        "    \"\"\"Genera una imagen basada en la descripción usando la API de OpenAI (DALL·E).\"\"\"\n",
        "    try:\n",
        "        openai_client = openai.OpenAI(api_key=api_key)\n",
        "        response = openai_client.images.generate(\n",
        "            model=\"dall-e-3\",\n",
        "            prompt=descripcion,\n",
        "            n=1,\n",
        "            size=\"1024x1024\"\n",
        "        )\n",
        "        return response.data[0].url\n",
        "    except Exception as e:\n",
        "        return f\"Error al generar la imagen: {str(e)}\""
      ],
      "metadata": {
        "id": "8Di7wrl62HAq"
      },
      "execution_count": null,
      "outputs": []
    },
    {
      "cell_type": "markdown",
      "source": [
        "### Ejecución del cuestionario.\n",
        "La función realizar_cuestionario(api_key) ejecuta el cuestionario y devuelve el perfil de aprendizaje del estudiante."
      ],
      "metadata": {
        "id": "hiZTyESJ2Gwx"
      }
    },
    {
      "cell_type": "code",
      "source": [
        "def realizar_cuestionario(api_key):\n",
        "    \"\"\"Ejecuta el cuestionario y obtiene el perfil de aprendizaje.\"\"\"\n",
        "    preguntas = obtener_preguntas(api_key)\n",
        "    if \"Error\" in preguntas[0]:\n",
        "        print(preguntas[0])\n",
        "        return None\n",
        "\n",
        "    print(\"\\nResponde las siguientes preguntas seleccionando una opción (1, 2 o 3):\\n\")\n",
        "    respuestas_usuario = []\n",
        "\n",
        "    for pregunta in preguntas:\n",
        "        print(pregunta)\n",
        "        respuesta = input(\"Tu respuesta (1, 2 o 3): \")\n",
        "        respuestas_usuario.append(respuesta)\n",
        "\n",
        "    perfil = obtener_perfil(api_key, respuestas_usuario)\n",
        "    print(\"\\nTu perfil de aprendizaje es:\")\n",
        "    print(perfil)\n",
        "    return perfil"
      ],
      "metadata": {
        "id": "g927n6HB2WaA"
      },
      "execution_count": null,
      "outputs": []
    },
    {
      "cell_type": "markdown",
      "source": [
        "### Flujo de Interacción con el Estudiante\n",
        "\n",
        "La función interactuar_con_estudiante(api_key, perfil) permite que el estudiante haga preguntas y reciba respuestas adaptadas, con la opción de generar imágenes si lo desea."
      ],
      "metadata": {
        "id": "TfpnLS_w2iWa"
      }
    },
    {
      "cell_type": "code",
      "source": [
        "def interactuar_con_estudiante(api_key, perfil):\n",
        "    \"\"\"Permite que el estudiante haga preguntas y genere imágenes relacionadas.\"\"\"\n",
        "    while True:\n",
        "        pregunta_usuario = input(\"\\nEscribe una pregunta sobre un tema académico (o escribe 'salir' para terminar): \")\n",
        "        if pregunta_usuario.lower() == \"salir\":\n",
        "            break\n",
        "\n",
        "        respuesta_ia = responder_pregunta(api_key, perfil, pregunta_usuario)\n",
        "        print(\"\\nRespuesta del tutor IA:\")\n",
        "        print(respuesta_ia)\n",
        "\n",
        "        generar_img = input(\"¿Quieres generar una imagen relacionada? (sí/no): \").lower()\n",
        "        if generar_img == \"sí\":\n",
        "            imagen_url = generar_imagen(api_key, pregunta_usuario)\n",
        "            print(f\"Aquí está tu imagen: {imagen_url}\")"
      ],
      "metadata": {
        "id": "IbwlalAV2k54"
      },
      "execution_count": null,
      "outputs": []
    },
    {
      "cell_type": "markdown",
      "source": [
        "### Función Main\n",
        "La función main() coordina la ejecución del programa, obteniendo la API Key del usuario, ejecutando el cuestionario y permitiendo la interacción con el estudiante.\n",
        "\n"
      ],
      "metadata": {
        "id": "hT9qScr5u1EH"
      }
    },
    {
      "cell_type": "code",
      "source": [
        "def main():\n",
        "    \"\"\"Función principal para ejecutar el programa usando la API de OpenAI.\"\"\"\n",
        "    API_KEY = input(\"Ingresa tu API Key de OpenAI: \")\n",
        "    perfil = realizar_cuestionario(API_KEY)\n",
        "    if perfil:\n",
        "        interactuar_con_estudiante(API_KEY, perfil)\n"
      ],
      "metadata": {
        "id": "i_0OwZRO3QIJ"
      },
      "execution_count": null,
      "outputs": []
    },
    {
      "cell_type": "markdown",
      "source": [
        "## Ejecución del Programa\n"
      ],
      "metadata": {
        "id": "3es98L4w3Wk4"
      }
    },
    {
      "cell_type": "code",
      "source": [
        "if __name__ == \"__main__\":\n",
        "    main()"
      ],
      "metadata": {
        "id": "1pKasbpo3nwg"
      },
      "execution_count": null,
      "outputs": []
    }
  ]
}